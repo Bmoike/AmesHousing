{
 "cells": [
  {
   "cell_type": "code",
   "execution_count": 1,
   "id": "0336ae0a-7494-45f9-bf98-404f39d51461",
   "metadata": {},
   "outputs": [],
   "source": [
    "import pandas as pd"
   ]
  },
  {
   "cell_type": "code",
   "execution_count": 2,
   "id": "b3faafd2-b176-4cfe-95fa-a38a0922866d",
   "metadata": {},
   "outputs": [
    {
     "data": {
      "text/html": [
       "<div>\n",
       "<style scoped>\n",
       "    .dataframe tbody tr th:only-of-type {\n",
       "        vertical-align: middle;\n",
       "    }\n",
       "\n",
       "    .dataframe tbody tr th {\n",
       "        vertical-align: top;\n",
       "    }\n",
       "\n",
       "    .dataframe thead th {\n",
       "        text-align: right;\n",
       "    }\n",
       "</style>\n",
       "<table border=\"1\" class=\"dataframe\">\n",
       "  <thead>\n",
       "    <tr style=\"text-align: right;\">\n",
       "      <th></th>\n",
       "      <th>Order</th>\n",
       "      <th>PID</th>\n",
       "      <th>MS SubClass</th>\n",
       "      <th>MS Zoning</th>\n",
       "      <th>Lot Frontage</th>\n",
       "      <th>Lot Area</th>\n",
       "      <th>Street</th>\n",
       "      <th>Alley</th>\n",
       "      <th>Lot Shape</th>\n",
       "      <th>Land Contour</th>\n",
       "      <th>...</th>\n",
       "      <th>Pool Area</th>\n",
       "      <th>Pool QC</th>\n",
       "      <th>Fence</th>\n",
       "      <th>Misc Feature</th>\n",
       "      <th>Misc Val</th>\n",
       "      <th>Mo Sold</th>\n",
       "      <th>Yr Sold</th>\n",
       "      <th>Sale Type</th>\n",
       "      <th>Sale Condition</th>\n",
       "      <th>SalePrice</th>\n",
       "    </tr>\n",
       "  </thead>\n",
       "  <tbody>\n",
       "    <tr>\n",
       "      <th>0</th>\n",
       "      <td>1</td>\n",
       "      <td>526301100</td>\n",
       "      <td>20</td>\n",
       "      <td>RL</td>\n",
       "      <td>141.0</td>\n",
       "      <td>31770</td>\n",
       "      <td>Pave</td>\n",
       "      <td>NaN</td>\n",
       "      <td>IR1</td>\n",
       "      <td>Lvl</td>\n",
       "      <td>...</td>\n",
       "      <td>0</td>\n",
       "      <td>NaN</td>\n",
       "      <td>NaN</td>\n",
       "      <td>NaN</td>\n",
       "      <td>0</td>\n",
       "      <td>5</td>\n",
       "      <td>2010</td>\n",
       "      <td>WD</td>\n",
       "      <td>Normal</td>\n",
       "      <td>215000</td>\n",
       "    </tr>\n",
       "    <tr>\n",
       "      <th>1</th>\n",
       "      <td>2</td>\n",
       "      <td>526350040</td>\n",
       "      <td>20</td>\n",
       "      <td>RH</td>\n",
       "      <td>80.0</td>\n",
       "      <td>11622</td>\n",
       "      <td>Pave</td>\n",
       "      <td>NaN</td>\n",
       "      <td>Reg</td>\n",
       "      <td>Lvl</td>\n",
       "      <td>...</td>\n",
       "      <td>0</td>\n",
       "      <td>NaN</td>\n",
       "      <td>MnPrv</td>\n",
       "      <td>NaN</td>\n",
       "      <td>0</td>\n",
       "      <td>6</td>\n",
       "      <td>2010</td>\n",
       "      <td>WD</td>\n",
       "      <td>Normal</td>\n",
       "      <td>105000</td>\n",
       "    </tr>\n",
       "    <tr>\n",
       "      <th>2</th>\n",
       "      <td>3</td>\n",
       "      <td>526351010</td>\n",
       "      <td>20</td>\n",
       "      <td>RL</td>\n",
       "      <td>81.0</td>\n",
       "      <td>14267</td>\n",
       "      <td>Pave</td>\n",
       "      <td>NaN</td>\n",
       "      <td>IR1</td>\n",
       "      <td>Lvl</td>\n",
       "      <td>...</td>\n",
       "      <td>0</td>\n",
       "      <td>NaN</td>\n",
       "      <td>NaN</td>\n",
       "      <td>Gar2</td>\n",
       "      <td>12500</td>\n",
       "      <td>6</td>\n",
       "      <td>2010</td>\n",
       "      <td>WD</td>\n",
       "      <td>Normal</td>\n",
       "      <td>172000</td>\n",
       "    </tr>\n",
       "    <tr>\n",
       "      <th>3</th>\n",
       "      <td>4</td>\n",
       "      <td>526353030</td>\n",
       "      <td>20</td>\n",
       "      <td>RL</td>\n",
       "      <td>93.0</td>\n",
       "      <td>11160</td>\n",
       "      <td>Pave</td>\n",
       "      <td>NaN</td>\n",
       "      <td>Reg</td>\n",
       "      <td>Lvl</td>\n",
       "      <td>...</td>\n",
       "      <td>0</td>\n",
       "      <td>NaN</td>\n",
       "      <td>NaN</td>\n",
       "      <td>NaN</td>\n",
       "      <td>0</td>\n",
       "      <td>4</td>\n",
       "      <td>2010</td>\n",
       "      <td>WD</td>\n",
       "      <td>Normal</td>\n",
       "      <td>244000</td>\n",
       "    </tr>\n",
       "    <tr>\n",
       "      <th>4</th>\n",
       "      <td>5</td>\n",
       "      <td>527105010</td>\n",
       "      <td>60</td>\n",
       "      <td>RL</td>\n",
       "      <td>74.0</td>\n",
       "      <td>13830</td>\n",
       "      <td>Pave</td>\n",
       "      <td>NaN</td>\n",
       "      <td>IR1</td>\n",
       "      <td>Lvl</td>\n",
       "      <td>...</td>\n",
       "      <td>0</td>\n",
       "      <td>NaN</td>\n",
       "      <td>MnPrv</td>\n",
       "      <td>NaN</td>\n",
       "      <td>0</td>\n",
       "      <td>3</td>\n",
       "      <td>2010</td>\n",
       "      <td>WD</td>\n",
       "      <td>Normal</td>\n",
       "      <td>189900</td>\n",
       "    </tr>\n",
       "  </tbody>\n",
       "</table>\n",
       "<p>5 rows × 82 columns</p>\n",
       "</div>"
      ],
      "text/plain": [
       "   Order        PID  MS SubClass MS Zoning  Lot Frontage  Lot Area Street  \\\n",
       "0      1  526301100           20        RL         141.0     31770   Pave   \n",
       "1      2  526350040           20        RH          80.0     11622   Pave   \n",
       "2      3  526351010           20        RL          81.0     14267   Pave   \n",
       "3      4  526353030           20        RL          93.0     11160   Pave   \n",
       "4      5  527105010           60        RL          74.0     13830   Pave   \n",
       "\n",
       "  Alley Lot Shape Land Contour  ... Pool Area Pool QC  Fence Misc Feature  \\\n",
       "0   NaN       IR1          Lvl  ...         0     NaN    NaN          NaN   \n",
       "1   NaN       Reg          Lvl  ...         0     NaN  MnPrv          NaN   \n",
       "2   NaN       IR1          Lvl  ...         0     NaN    NaN         Gar2   \n",
       "3   NaN       Reg          Lvl  ...         0     NaN    NaN          NaN   \n",
       "4   NaN       IR1          Lvl  ...         0     NaN  MnPrv          NaN   \n",
       "\n",
       "  Misc Val Mo Sold Yr Sold Sale Type  Sale Condition  SalePrice  \n",
       "0        0       5    2010       WD           Normal     215000  \n",
       "1        0       6    2010       WD           Normal     105000  \n",
       "2    12500       6    2010       WD           Normal     172000  \n",
       "3        0       4    2010       WD           Normal     244000  \n",
       "4        0       3    2010       WD           Normal     189900  \n",
       "\n",
       "[5 rows x 82 columns]"
      ]
     },
     "execution_count": 2,
     "metadata": {},
     "output_type": "execute_result"
    }
   ],
   "source": [
    "# Q1\n",
    "df = pd.read_csv(\"AmesHousing.csv\")\n",
    "df.head()"
   ]
  },
  {
   "cell_type": "code",
   "execution_count": 5,
   "id": "ee7b717e-eff8-4b53-be17-ecd7db70dce6",
   "metadata": {},
   "outputs": [
    {
     "name": "stdout",
     "output_type": "stream",
     "text": [
      "$755000 is the max price\n",
      "$12789 is the min price\n"
     ]
    }
   ],
   "source": [
    "# Q2\n",
    "print(f\"${df['SalePrice'].max()} is the max price\")\n",
    "print(f\"${df['SalePrice'].min()} is the min price\")"
   ]
  },
  {
   "cell_type": "code",
   "execution_count": 37,
   "id": "3617574a-3a4d-431d-b5ba-45a819fcde1f",
   "metadata": {},
   "outputs": [
    {
     "name": "stdout",
     "output_type": "stream",
     "text": [
      "IR1, Reg, IR2, IR3 are the different categories in the \"Lot Shape\" column\n"
     ]
    }
   ],
   "source": [
    "# Q3\n",
    "# can do df.value_counts('Lot Shape')\n",
    "print(f\"{', '.join(df['Lot Shape'].unique().tolist())} are the different categories in the \\\"Lot Shape\\\" column\")"
   ]
  },
  {
   "cell_type": "code",
   "execution_count": 9,
   "id": "79f7eac4-596d-4d18-93a2-c524a1be46c9",
   "metadata": {},
   "outputs": [
    {
     "name": "stdout",
     "output_type": "stream",
     "text": [
      "The range of years when houses were sold is 4 years\n"
     ]
    }
   ],
   "source": [
    "# Q4\n",
    "print(f\"The range of years when houses were sold is {df['Yr Sold'].max() - df['Yr Sold'].min()} years\")"
   ]
  },
  {
   "cell_type": "code",
   "execution_count": 11,
   "id": "9261a0ed-8c0b-4e0e-8931-e82ae426be9c",
   "metadata": {},
   "outputs": [
    {
     "name": "stdout",
     "output_type": "stream",
     "text": [
      "The total number of homes sold in Ames is 2930\n"
     ]
    }
   ],
   "source": [
    "# Q5\n",
    "print(f\"The total number of homes sold in Ames is {df['Yr Sold'].count()}\")\n",
    "# another way to do find non-null total is df['Yr Sold'].notna().sum()"
   ]
  },
  {
   "cell_type": "code",
   "execution_count": 13,
   "id": "188472e7-6764-447f-af66-7a161e518962",
   "metadata": {},
   "outputs": [
    {
     "name": "stdout",
     "output_type": "stream",
     "text": [
      " There are 490 null values in the \"Lot Frontage\" column\n"
     ]
    }
   ],
   "source": [
    "# Q6\n",
    "print(f\" There are {df['Lot Frontage'].isnull().sum()} null values in the \\\"Lot Frontage\\\" column\")"
   ]
  },
  {
   "cell_type": "code",
   "execution_count": 15,
   "id": "fb8d29a7-9889-430c-b771-beb57e21c7e0",
   "metadata": {},
   "outputs": [
    {
     "name": "stdout",
     "output_type": "stream",
     "text": [
      "The total non-null values in column \"Alley\" are 198\n",
      "The total null values in column \"Alley\" are 2732\n"
     ]
    }
   ],
   "source": [
    "# Q7\n",
    "print(f\"The total non-null values in column \\\"Alley\\\" are {df['Alley'].notna().sum()}\")\n",
    "print(f\"The total null values in column \\\"Alley\\\" are {df['Alley'].isnull().sum()}\")"
   ]
  },
  {
   "cell_type": "code",
   "execution_count": 17,
   "id": "3d1a521b-a79e-48d5-adef-92c8227d89c9",
   "metadata": {},
   "outputs": [
    {
     "name": "stdout",
     "output_type": "stream",
     "text": [
      "56 homes were sold in Gilbert between 2009 to 2010\n"
     ]
    }
   ],
   "source": [
    "# Q8 TODO\n",
    "gilbert = df['Neighborhood'] == 'Gilbert'\n",
    "year = (df['Yr Sold'] == 2010) | (df['Yr Sold'] == 2009)\n",
    "print(f\"{df['Neighborhood'].where(gilbert & year).count()} homes were sold in Gilbert between 2009 to 2010\")"
   ]
  },
  {
   "cell_type": "code",
   "execution_count": 19,
   "id": "fc84b762-a42c-4d45-a854-2b7c80ee01a1",
   "metadata": {},
   "outputs": [
    {
     "name": "stdout",
     "output_type": "stream",
     "text": [
      "15 homes were sold in Gilbert in 2010\n"
     ]
    }
   ],
   "source": [
    "# Q9\n",
    "year = (df['Yr Sold'] == 2010)\n",
    "print(f\"{df['Neighborhood'].where(gilbert & year).count()} homes were sold in Gilbert in 2010\")"
   ]
  },
  {
   "cell_type": "code",
   "execution_count": 21,
   "id": "ea7d5650-2d3e-4d95-8279-90258fd46b16",
   "metadata": {},
   "outputs": [
    {
     "name": "stdout",
     "output_type": "stream",
     "text": [
      "11160 is the value in row 3 and column 5\n"
     ]
    }
   ],
   "source": [
    "# Q10\n",
    "print(f\"{df.iloc[3, 5]} is the value in row 3 and column 5\")"
   ]
  },
  {
   "cell_type": "code",
   "execution_count": 23,
   "id": "93fa7e16-792c-4331-ad18-b149f578ee53",
   "metadata": {},
   "outputs": [
    {
     "data": {
      "text/plain": [
       "0       $215,000.00\n",
       "1       $105,000.00\n",
       "2       $172,000.00\n",
       "3       $244,000.00\n",
       "4       $189,900.00\n",
       "           ...     \n",
       "2925    $142,500.00\n",
       "2926    $131,000.00\n",
       "2927    $132,000.00\n",
       "2928    $170,000.00\n",
       "2929    $188,000.00\n",
       "Name: Formated Price, Length: 2930, dtype: object"
      ]
     },
     "execution_count": 23,
     "metadata": {},
     "output_type": "execute_result"
    }
   ],
   "source": [
    "# Q11\n",
    "\n",
    "# df.style.format({'Formated Price': '${:,.2f}'}) can't be saved as a variable?\n",
    "df['Formated Price'] = df['SalePrice'].map('${:,.2f}'.format)\n",
    "df['Formated Price']"
   ]
  },
  {
   "cell_type": "code",
   "execution_count": 31,
   "id": "65bfc1a4-a796-4b5a-b089-529ab0f6fc60",
   "metadata": {},
   "outputs": [],
   "source": [
    "# Q12\n",
    "df[['Neighborhood', 'Year Built', 'SalePrice', 'Formated Price']].to_csv('minimal_ames_housing.csv')"
   ]
  },
  {
   "cell_type": "code",
   "execution_count": null,
   "id": "fd9424eb-04fd-453a-be43-feb79886f15a",
   "metadata": {},
   "outputs": [],
   "source": []
  }
 ],
 "metadata": {
  "kernelspec": {
   "display_name": "Python 3 (ipykernel)",
   "language": "python",
   "name": "python3"
  },
  "language_info": {
   "codemirror_mode": {
    "name": "ipython",
    "version": 3
   },
   "file_extension": ".py",
   "mimetype": "text/x-python",
   "name": "python",
   "nbconvert_exporter": "python",
   "pygments_lexer": "ipython3",
   "version": "3.12.4"
  }
 },
 "nbformat": 4,
 "nbformat_minor": 5
}
